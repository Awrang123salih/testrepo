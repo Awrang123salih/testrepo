{
  "metadata": {
    "kernelspec": {
      "name": "python",
      "display_name": "Pyolite",
      "language": "python"
    },
    "language_info": {
      "codemirror_mode": {
        "name": "python",
        "version": 3
      },
      "file_extension": ".py",
      "mimetype": "text/x-python",
      "name": "python",
      "nbconvert_exporter": "python",
      "pygments_lexer": "ipython3",
      "version": "3.8"
    },
    "toc-showmarkdowntxt": true,
    "toc-showcode": true,
    "toc-autonumbering": false
  },
  "nbformat_minor": 4,
  "nbformat": 4,
  "cells": [
    {
      "cell_type": "markdown",
      "source": "<center>\n    <img src=\"https://s3-api.us-geo.objectstorage.softlayer.net/cf-courses-data/CognitiveClass/Logos/organization_logo/organization_logo.png\" width=\"300\" alt=\"cognitiveclass.ai logo\"  />\n</center>\n",
      "metadata": {}
    },
    {
      "cell_type": "markdown",
      "source": "#### Add your code below following the instructions given in the course\n",
      "metadata": {}
    },
    {
      "cell_type": "markdown",
      "source": "# My Jupyter Notebook on IBM Watson Studio",
      "metadata": {}
    },
    {
      "cell_type": "markdown",
      "source": "My name is **Awrang Salihee** \n\nand my desired occupation is Data analyst",
      "metadata": {}
    },
    {
      "cell_type": "markdown",
      "source": "_I am interested in Data science becuase I graduated from Mathematics and analizing of data and numbers is\nday to day job of a mathematician this is why I am intereseted in Data analysis_ ",
      "metadata": {}
    },
    {
      "cell_type": "markdown",
      "source": "In the follwoing cod I tryed the power rule, I raised the varial x to the power of y",
      "metadata": {}
    },
    {
      "cell_type": "code",
      "source": "x=18\ny=3\nz=x**y\nz",
      "metadata": {
        "trusted": true
      },
      "execution_count": 19,
      "outputs": [
        {
          "execution_count": 19,
          "output_type": "execute_result",
          "data": {
            "text/plain": "5832"
          },
          "metadata": {}
        }
      ]
    },
    {
      "cell_type": "markdown",
      "source": "***\n-  \n- \n- \n\n1 \n\n| Heading | Heading |\n| ----| ----|\n| text   | text |\n| text | text |\n![alt text](image.jpg)\n\n~~Strikthrough.~~",
      "metadata": {
        "tags": []
      }
    },
    {
      "cell_type": "code",
      "source": "",
      "metadata": {},
      "execution_count": null,
      "outputs": []
    }
  ]
}